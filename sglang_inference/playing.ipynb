{
 "cells": [
  {
   "cell_type": "code",
   "execution_count": 1,
   "metadata": {},
   "outputs": [],
   "source": [
    "from DatasetManager.env_utils import set_env\n",
    "\n",
    "\n",
    "set_env()\n",
    "import json\n",
    "\n",
    "url = \"http://localhost:30000/\"\n"
   ]
  },
  {
   "cell_type": "code",
   "execution_count": 29,
   "metadata": {},
   "outputs": [
    {
     "data": {
      "text/plain": [
       "{'detail': 'Method Not Allowed'}"
      ]
     },
     "execution_count": 29,
     "metadata": {},
     "output_type": "execute_result"
    }
   ],
   "source": [
    "requests.post(f'{url}/get_server_info').json()"
   ]
  },
  {
   "cell_type": "code",
   "execution_count": 31,
   "metadata": {},
   "outputs": [
    {
     "data": {
      "text/plain": [
       "{'text': '4; 4+4=8. and so on.',\n",
       " 'meta_info': {'id': '8380ccb68a6b429891163088d6d29832',\n",
       "  'finish_reason': {'type': 'stop', 'matched': 2},\n",
       "  'prompt_tokens': 13,\n",
       "  'completion_tokens': 14,\n",
       "  'cached_tokens': 1}}"
      ]
     },
     "execution_count": 31,
     "metadata": {},
     "output_type": "execute_result"
    }
   ],
   "source": [
    "\n",
    "data = {\"text\": \"1+1=2; 2+2=\"}\n",
    "\n",
    "requests.post(f\"{url}/generate\", json=data).json()\n"
   ]
  },
  {
   "cell_type": "code",
   "execution_count": 32,
   "metadata": {},
   "outputs": [
    {
     "data": {
      "text/plain": [
       "{'error': {'message': 'Either text, input_ids or input_embeds should be provided.'}}"
      ]
     },
     "execution_count": 32,
     "metadata": {},
     "output_type": "execute_result"
    }
   ],
   "source": [
    "data={'image_file': '/work/cvp352/loi_work/2025/apiprompting/dataset/mm-vet/mm-vet/images/v1_0.png', 'question': '\"What is x in the equation?\"'}\n",
    "requests.post(f\"{url}/generate\", json=data).json()"
   ]
  },
  {
   "cell_type": "code",
   "execution_count": 3,
   "metadata": {},
   "outputs": [],
   "source": [
    "import sglang as sgl\n",
    "from sglang import RuntimeEndpoint\n",
    "@sgl.function\n",
    "def image_qa(s, image_path, question):\n",
    "    s += sgl.user(sgl.image(image_path) + question)\n",
    "    s += sgl.assistant(sgl.gen(\"answer\"))\n",
    "\n",
    "# sgl.set_default_backend(RuntimeEndpoint(\"http://localhost:30000\"))\n",
    "# sgl.set_default_backend\n"
   ]
  },
  {
   "cell_type": "code",
   "execution_count": 4,
   "metadata": {},
   "outputs": [
    {
     "name": "stderr",
     "output_type": "stream",
     "text": [
      "/work/cvp352/loi_work/loi_env/loi_conda/lib/python3.11/site-packages/tqdm/auto.py:21: TqdmWarning: IProgress not found. Please update jupyter and ipywidgets. See https://ipywidgets.readthedocs.io/en/stable/user_install.html\n",
      "  from .autonotebook import tqdm as notebook_tqdm\n",
      "2024-12-25 20:42:53,582\tINFO util.py:154 -- Missing packages: ['ipywidgets']. Run `pip install -U ipywidgets`, then restart the notebook server for rich notebook output.\n",
      "Loading safetensors checkpoint shards:   0% Completed | 0/4 [00:00<?, ?it/s]\n",
      "Loading safetensors checkpoint shards:  25% Completed | 1/4 [00:00<00:01,  1.59it/s]\n",
      "Loading safetensors checkpoint shards:  50% Completed | 2/4 [00:04<00:04,  2.31s/it]\n",
      "Loading safetensors checkpoint shards:  75% Completed | 3/4 [00:07<00:02,  2.76s/it]\n",
      "Loading safetensors checkpoint shards: 100% Completed | 4/4 [00:11<00:00,  3.35s/it]\n",
      "Loading safetensors checkpoint shards: 100% Completed | 4/4 [00:11<00:00,  2.92s/it]\n",
      "\n",
      "100%|██████████| 23/23 [00:06<00:00,  3.39it/s]\n"
     ]
    },
    {
     "ename": "NameError",
     "evalue": "name 'get_chat_template' is not defined",
     "output_type": "error",
     "traceback": [
      "\u001b[0;31m---------------------------------------------------------------------------\u001b[0m",
      "\u001b[0;31mNameError\u001b[0m                                 Traceback (most recent call last)",
      "Cell \u001b[0;32mIn[4], line 2\u001b[0m\n\u001b[1;32m      1\u001b[0m runtime \u001b[38;5;241m=\u001b[39m sgl\u001b[38;5;241m.\u001b[39mRuntime(model_path\u001b[38;5;241m=\u001b[39m\u001b[38;5;124m\"\u001b[39m\u001b[38;5;124mlmms-lab/llama3-llava-next-8b\u001b[39m\u001b[38;5;124m\"\u001b[39m)\n\u001b[0;32m----> 2\u001b[0m runtime\u001b[38;5;241m.\u001b[39mendpoint\u001b[38;5;241m.\u001b[39mchat_template \u001b[38;5;241m=\u001b[39m \u001b[43mget_chat_template\u001b[49m(\u001b[38;5;124m\"\u001b[39m\u001b[38;5;124mllama-3-instruct-llava\u001b[39m\u001b[38;5;124m\"\u001b[39m)\n",
      "\u001b[0;31mNameError\u001b[0m: name 'get_chat_template' is not defined"
     ]
    }
   ],
   "source": [
    "runtime = sgl.Runtime(model_path=\"lmms-lab/llama3-llava-next-8b\")\n"
   ]
  },
  {
   "cell_type": "code",
   "execution_count": 7,
   "metadata": {},
   "outputs": [],
   "source": [
    "from sglang.lang.chat_template import get_chat_template\n",
    "runtime.endpoint.chat_template = get_chat_template(\"llama-3-instruct-llava\")\n",
    "sgl.set_default_backend(runtime)"
   ]
  },
  {
   "cell_type": "code",
   "execution_count": 8,
   "metadata": {},
   "outputs": [
    {
     "name": "stderr",
     "output_type": "stream",
     "text": [
      "[2024-12-25 20:44:33] ERROR:    Exception in ASGI application\n",
      "Traceback (most recent call last):\n",
      "  File \"/work/cvp352/loi_work/loi_env/loi_conda/lib/python3.11/site-packages/uvicorn/protocols/http/httptools_impl.py\", line 409, in run_asgi\n",
      "    result = await app(  # type: ignore[func-returns-value]\n",
      "             ^^^^^^^^^^^^^^^^^^^^^^^^^^^^^^^^^^^^^^^^^^^^^^\n",
      "  File \"/work/cvp352/loi_work/loi_env/loi_conda/lib/python3.11/site-packages/uvicorn/middleware/proxy_headers.py\", line 60, in __call__\n",
      "    return await self.app(scope, receive, send)\n",
      "           ^^^^^^^^^^^^^^^^^^^^^^^^^^^^^^^^^^^^\n",
      "  File \"/work/cvp352/loi_work/loi_env/loi_conda/lib/python3.11/site-packages/fastapi/applications.py\", line 1054, in __call__\n",
      "    await super().__call__(scope, receive, send)\n",
      "  File \"/work/cvp352/loi_work/loi_env/loi_conda/lib/python3.11/site-packages/starlette/applications.py\", line 113, in __call__\n",
      "    await self.middleware_stack(scope, receive, send)\n",
      "  File \"/work/cvp352/loi_work/loi_env/loi_conda/lib/python3.11/site-packages/starlette/middleware/errors.py\", line 187, in __call__\n",
      "    raise exc\n",
      "  File \"/work/cvp352/loi_work/loi_env/loi_conda/lib/python3.11/site-packages/starlette/middleware/errors.py\", line 165, in __call__\n",
      "    await self.app(scope, receive, _send)\n",
      "  File \"/work/cvp352/loi_work/loi_env/loi_conda/lib/python3.11/site-packages/starlette/middleware/cors.py\", line 85, in __call__\n",
      "    await self.app(scope, receive, send)\n",
      "  File \"/work/cvp352/loi_work/loi_env/loi_conda/lib/python3.11/site-packages/starlette/middleware/exceptions.py\", line 62, in __call__\n",
      "    await wrap_app_handling_exceptions(self.app, conn)(scope, receive, send)\n",
      "  File \"/work/cvp352/loi_work/loi_env/loi_conda/lib/python3.11/site-packages/starlette/_exception_handler.py\", line 53, in wrapped_app\n",
      "    raise exc\n",
      "  File \"/work/cvp352/loi_work/loi_env/loi_conda/lib/python3.11/site-packages/starlette/_exception_handler.py\", line 42, in wrapped_app\n",
      "    await app(scope, receive, sender)\n",
      "  File \"/work/cvp352/loi_work/loi_env/loi_conda/lib/python3.11/site-packages/starlette/routing.py\", line 715, in __call__\n",
      "    await self.middleware_stack(scope, receive, send)\n",
      "  File \"/work/cvp352/loi_work/loi_env/loi_conda/lib/python3.11/site-packages/starlette/routing.py\", line 735, in app\n",
      "    await route.handle(scope, receive, send)\n",
      "  File \"/work/cvp352/loi_work/loi_env/loi_conda/lib/python3.11/site-packages/starlette/routing.py\", line 288, in handle\n",
      "    await self.app(scope, receive, send)\n",
      "  File \"/work/cvp352/loi_work/loi_env/loi_conda/lib/python3.11/site-packages/starlette/routing.py\", line 76, in app\n",
      "    await wrap_app_handling_exceptions(app, request)(scope, receive, send)\n",
      "  File \"/work/cvp352/loi_work/loi_env/loi_conda/lib/python3.11/site-packages/starlette/_exception_handler.py\", line 53, in wrapped_app\n",
      "    raise exc\n",
      "  File \"/work/cvp352/loi_work/loi_env/loi_conda/lib/python3.11/site-packages/starlette/_exception_handler.py\", line 42, in wrapped_app\n",
      "    await app(scope, receive, sender)\n",
      "  File \"/work/cvp352/loi_work/loi_env/loi_conda/lib/python3.11/site-packages/starlette/routing.py\", line 73, in app\n",
      "    response = await f(request)\n",
      "               ^^^^^^^^^^^^^^^^\n",
      "  File \"/work/cvp352/loi_work/loi_env/loi_conda/lib/python3.11/site-packages/fastapi/routing.py\", line 301, in app\n",
      "    raw_response = await run_endpoint_function(\n",
      "                   ^^^^^^^^^^^^^^^^^^^^^^^^^^^^\n",
      "  File \"/work/cvp352/loi_work/loi_env/loi_conda/lib/python3.11/site-packages/fastapi/routing.py\", line 212, in run_endpoint_function\n",
      "    return await dependant.call(**values)\n",
      "           ^^^^^^^^^^^^^^^^^^^^^^^^^^^^^^\n",
      "  File \"/work/cvp352/loi_work/loi_env/loi_conda/lib/python3.11/site-packages/sglang/srt/metrics/func_timer.py\", line 74, in async_wrapper\n",
      "    return await func(*args, **kwargs)\n",
      "           ^^^^^^^^^^^^^^^^^^^^^^^^^^^\n",
      "  File \"/work/cvp352/loi_work/loi_env/loi_conda/lib/python3.11/site-packages/sglang/srt/server.py\", line 311, in generate_request\n",
      "    ret = await tokenizer_manager.generate_request(obj, request).__anext__()\n",
      "          ^^^^^^^^^^^^^^^^^^^^^^^^^^^^^^^^^^^^^^^^^^^^^^^^^^^^^^^^^^^^^^^^^^\n",
      "  File \"/work/cvp352/loi_work/loi_env/loi_conda/lib/python3.11/site-packages/sglang/srt/managers/tokenizer_manager.py\", line 198, in generate_request\n",
      "    async for response in self._wait_one_response(obj, request, created_time):\n",
      "  File \"/work/cvp352/loi_work/loi_env/loi_conda/lib/python3.11/site-packages/sglang/srt/managers/tokenizer_manager.py\", line 315, in _wait_one_response\n",
      "    if request is not None and await request.is_disconnected():\n",
      "                               ^^^^^^^^^^^^^^^^^^^^^^^^^^^^^^^\n",
      "  File \"/work/cvp352/loi_work/loi_env/loi_conda/lib/python3.11/site-packages/starlette/requests.py\", line 294, in is_disconnected\n",
      "    with anyio.CancelScope() as cs:\n",
      "  File \"/work/cvp352/loi_work/loi_env/loi_conda/lib/python3.11/site-packages/anyio/_backends/_asyncio.py\", line 425, in __enter__\n",
      "    task_state = _task_states[host_task]\n",
      "                 ~~~~~~~~~~~~^^^^^^^^^^^\n",
      "  File \"/work/cvp352/loi_work/loi_env/loi_conda/lib/python3.11/site-packages/anyio/_backends/_asyncio.py\", line 686, in __getitem__\n",
      "    assert isinstance(key, asyncio.Task)\n",
      "           ^^^^^^^^^^^^^^^^^^^^^^^^^^^^^\n",
      "AssertionError\n"
     ]
    },
    {
     "name": "stderr",
     "output_type": "stream",
     "text": [
      "/work/cvp352/loi_work/loi_env/loi_conda/lib/python3.11/site-packages/sglang/lang/interpreter.py:339: UserWarning: Error in stream_executor: Traceback (most recent call last):\n",
      "  File \"/work/cvp352/loi_work/loi_env/loi_conda/lib/python3.11/site-packages/sglang/lang/interpreter.py\", line 337, in _thread_worker_func\n",
      "    self._execute(expr)\n",
      "  File \"/work/cvp352/loi_work/loi_env/loi_conda/lib/python3.11/site-packages/sglang/lang/interpreter.py\", line 380, in _execute\n",
      "    self._execute(x)\n",
      "  File \"/work/cvp352/loi_work/loi_env/loi_conda/lib/python3.11/site-packages/sglang/lang/interpreter.py\", line 375, in _execute\n",
      "    self._execute_gen(other)\n",
      "  File \"/work/cvp352/loi_work/loi_env/loi_conda/lib/python3.11/site-packages/sglang/lang/interpreter.py\", line 502, in _execute_gen\n",
      "    comp, meta_info = self.backend.generate(\n",
      "                      ^^^^^^^^^^^^^^^^^^^^^^\n",
      "  File \"/work/cvp352/loi_work/loi_env/loi_conda/lib/python3.11/site-packages/sglang/lang/backend/runtime_endpoint.py\", line 170, in generate\n",
      "    self._assert_success(res)\n",
      "  File \"/work/cvp352/loi_work/loi_env/loi_conda/lib/python3.11/site-packages/sglang/lang/backend/runtime_endpoint.py\", line 321, in _assert_success\n",
      "    raise RuntimeError(res.json())\n",
      "                       ^^^^^^^^^^\n",
      "  File \"/work/cvp352/loi_work/loi_env/loi_conda/lib/python3.11/site-packages/sglang/utils.py\", line 75, in json\n",
      "    return json.loads(self.resp.read())\n",
      "           ^^^^^^^^^^^^^^^^^^^^^^^^^^^^\n",
      "  File \"/work/cvp352/loi_work/loi_env/loi_conda/lib/python3.11/json/__init__.py\", line 346, in loads\n",
      "    return _default_decoder.decode(s)\n",
      "           ^^^^^^^^^^^^^^^^^^^^^^^^^^\n",
      "  File \"/work/cvp352/loi_work/loi_env/loi_conda/lib/python3.11/json/decoder.py\", line 337, in decode\n",
      "    obj, end = self.raw_decode(s, idx=_w(s, 0).end())\n",
      "               ^^^^^^^^^^^^^^^^^^^^^^^^^^^^^^^^^^^^^^\n",
      "  File \"/work/cvp352/loi_work/loi_env/loi_conda/lib/python3.11/json/decoder.py\", line 355, in raw_decode\n",
      "    raise JSONDecodeError(\"Expecting value\", s, err.value) from None\n",
      "json.decoder.JSONDecodeError: Expecting value: line 1 column 1 (char 0)\n",
      "\n",
      "  warnings.warn(f\"Error in stream_executor: {get_exception_traceback()}\")\n"
     ]
    },
    {
     "ename": "KeyError",
     "evalue": "'answer'",
     "output_type": "error",
     "traceback": [
      "\u001b[0;31m---------------------------------------------------------------------------\u001b[0m",
      "\u001b[0;31mKeyError\u001b[0m                                  Traceback (most recent call last)",
      "Cell \u001b[0;32mIn[8], line 7\u001b[0m\n\u001b[1;32m      2\u001b[0m     state \u001b[38;5;241m=\u001b[39m image_qa\u001b[38;5;241m.\u001b[39mrun(\n\u001b[1;32m      3\u001b[0m         image_path\u001b[38;5;241m=\u001b[39m\u001b[38;5;124m'\u001b[39m\u001b[38;5;124m/work/cvp352/loi_work/2025/apiprompting/dataset/mm-vet/mm-vet/images/v1_0.png\u001b[39m\u001b[38;5;124m'\u001b[39m, \n\u001b[1;32m      4\u001b[0m         question\u001b[38;5;241m=\u001b[39m\u001b[38;5;124m\"\u001b[39m\u001b[38;5;124mWhat is this?\u001b[39m\u001b[38;5;124m\"\u001b[39m, max_new_tokens\u001b[38;5;241m=\u001b[39m\u001b[38;5;241m128\u001b[39m\n\u001b[1;32m      5\u001b[0m     )\n\u001b[1;32m      6\u001b[0m     \u001b[38;5;28mprint\u001b[39m(state[\u001b[38;5;124m\"\u001b[39m\u001b[38;5;124manswer\u001b[39m\u001b[38;5;124m\"\u001b[39m], \u001b[38;5;124m\"\u001b[39m\u001b[38;5;130;01m\\n\u001b[39;00m\u001b[38;5;124m\"\u001b[39m)\n\u001b[0;32m----> 7\u001b[0m \u001b[43msingle\u001b[49m\u001b[43m(\u001b[49m\u001b[43m)\u001b[49m\n",
      "Cell \u001b[0;32mIn[8], line 6\u001b[0m, in \u001b[0;36msingle\u001b[0;34m()\u001b[0m\n\u001b[1;32m      1\u001b[0m \u001b[38;5;28;01mdef\u001b[39;00m \u001b[38;5;21msingle\u001b[39m():\n\u001b[1;32m      2\u001b[0m     state \u001b[38;5;241m=\u001b[39m image_qa\u001b[38;5;241m.\u001b[39mrun(\n\u001b[1;32m      3\u001b[0m         image_path\u001b[38;5;241m=\u001b[39m\u001b[38;5;124m'\u001b[39m\u001b[38;5;124m/work/cvp352/loi_work/2025/apiprompting/dataset/mm-vet/mm-vet/images/v1_0.png\u001b[39m\u001b[38;5;124m'\u001b[39m, \n\u001b[1;32m      4\u001b[0m         question\u001b[38;5;241m=\u001b[39m\u001b[38;5;124m\"\u001b[39m\u001b[38;5;124mWhat is this?\u001b[39m\u001b[38;5;124m\"\u001b[39m, max_new_tokens\u001b[38;5;241m=\u001b[39m\u001b[38;5;241m128\u001b[39m\n\u001b[1;32m      5\u001b[0m     )\n\u001b[0;32m----> 6\u001b[0m     \u001b[38;5;28mprint\u001b[39m(\u001b[43mstate\u001b[49m\u001b[43m[\u001b[49m\u001b[38;5;124;43m\"\u001b[39;49m\u001b[38;5;124;43manswer\u001b[39;49m\u001b[38;5;124;43m\"\u001b[39;49m\u001b[43m]\u001b[49m, \u001b[38;5;124m\"\u001b[39m\u001b[38;5;130;01m\\n\u001b[39;00m\u001b[38;5;124m\"\u001b[39m)\n",
      "File \u001b[0;32m/work/cvp352/loi_work/loi_env/loi_conda/lib/python3.11/site-packages/sglang/lang/interpreter.py:879\u001b[0m, in \u001b[0;36mProgramState.__getitem__\u001b[0;34m(self, name)\u001b[0m\n\u001b[1;32m    878\u001b[0m \u001b[38;5;28;01mdef\u001b[39;00m \u001b[38;5;21m__getitem__\u001b[39m(\u001b[38;5;28mself\u001b[39m, name):\n\u001b[0;32m--> 879\u001b[0m     \u001b[38;5;28;01mreturn\u001b[39;00m \u001b[38;5;28;43mself\u001b[39;49m\u001b[38;5;241;43m.\u001b[39;49m\u001b[43mget_var\u001b[49m\u001b[43m(\u001b[49m\u001b[43mname\u001b[49m\u001b[43m)\u001b[49m\n",
      "File \u001b[0;32m/work/cvp352/loi_work/loi_env/loi_conda/lib/python3.11/site-packages/sglang/lang/interpreter.py:864\u001b[0m, in \u001b[0;36mProgramState.get_var\u001b[0;34m(self, name)\u001b[0m\n\u001b[1;32m    863\u001b[0m \u001b[38;5;28;01mdef\u001b[39;00m \u001b[38;5;21mget_var\u001b[39m(\u001b[38;5;28mself\u001b[39m, name):\n\u001b[0;32m--> 864\u001b[0m     \u001b[38;5;28;01mreturn\u001b[39;00m \u001b[38;5;28;43mself\u001b[39;49m\u001b[38;5;241;43m.\u001b[39;49m\u001b[43mstream_executor\u001b[49m\u001b[38;5;241;43m.\u001b[39;49m\u001b[43mget_var\u001b[49m\u001b[43m(\u001b[49m\u001b[43mname\u001b[49m\u001b[43m)\u001b[49m\n",
      "File \u001b[0;32m/work/cvp352/loi_work/loi_env/loi_conda/lib/python3.11/site-packages/sglang/lang/interpreter.py:262\u001b[0m, in \u001b[0;36mStreamExecutor.get_var\u001b[0;34m(self, name)\u001b[0m\n\u001b[1;32m    260\u001b[0m \u001b[38;5;28;01mif\u001b[39;00m name \u001b[38;5;129;01min\u001b[39;00m \u001b[38;5;28mself\u001b[39m\u001b[38;5;241m.\u001b[39mvariable_event:\n\u001b[1;32m    261\u001b[0m     \u001b[38;5;28mself\u001b[39m\u001b[38;5;241m.\u001b[39mvariable_event[name]\u001b[38;5;241m.\u001b[39mwait()\n\u001b[0;32m--> 262\u001b[0m \u001b[38;5;28;01mreturn\u001b[39;00m \u001b[38;5;28;43mself\u001b[39;49m\u001b[38;5;241;43m.\u001b[39;49m\u001b[43mvariables\u001b[49m\u001b[43m[\u001b[49m\u001b[43mname\u001b[49m\u001b[43m]\u001b[49m\n",
      "\u001b[0;31mKeyError\u001b[0m: 'answer'"
     ]
    }
   ],
   "source": [
    "def single():\n",
    "    state = image_qa.run(\n",
    "        image_path='/work/cvp352/loi_work/2025/apiprompting/dataset/mm-vet/mm-vet/images/v1_0.png', \n",
    "        question=\"What is this?\", max_new_tokens=128\n",
    "    )\n",
    "    print(state[\"answer\"], \"\\n\")\n",
    "single()"
   ]
  }
 ],
 "metadata": {
  "kernelspec": {
   "display_name": "loi_conda",
   "language": "python",
   "name": "python3"
  },
  "language_info": {
   "codemirror_mode": {
    "name": "ipython",
    "version": 3
   },
   "file_extension": ".py",
   "mimetype": "text/x-python",
   "name": "python",
   "nbconvert_exporter": "python",
   "pygments_lexer": "ipython3",
   "version": "3.11.11"
  }
 },
 "nbformat": 4,
 "nbformat_minor": 2
}
